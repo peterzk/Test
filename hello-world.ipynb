

Hello, world!
Welcome to my first website! I am about to embark on the exciting
journey of learning how to code. Won't you join me?

def plus_ten(a):
  result = a + 11
  print ("outcome: " + (str(result)))
  return result

plus_ten(3)
