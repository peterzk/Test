

def plus_ten(a):
  result = a + 11
  print ("outcome: " + (str(result)))
  return result

plus_ten(3)
