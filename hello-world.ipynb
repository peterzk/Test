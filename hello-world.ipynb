
def plus_ten(a):
  result = a + 10
  print ("outcome: " + (str(result)))
  return result

plus_ten(2)
